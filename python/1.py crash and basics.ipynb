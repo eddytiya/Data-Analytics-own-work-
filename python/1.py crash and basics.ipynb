{
 "cells": [
  {
   "cell_type": "markdown",
   "id": "e51da681-de80-42da-bb1a-a1d956a605bd",
   "metadata": {
    "jp-MarkdownHeadingCollapsed": true
   },
   "source": [
    "# Arithmetic operators"
   ]
  },
  {
   "cell_type": "code",
   "execution_count": 2,
   "id": "6de8ecc7-c772-437e-9e1a-8a075143a96d",
   "metadata": {},
   "outputs": [
    {
     "data": {
      "text/plain": [
       "3"
      ]
     },
     "execution_count": 2,
     "metadata": {},
     "output_type": "execute_result"
    }
   ],
   "source": [
    "2+1"
   ]
  },
  {
   "cell_type": "code",
   "execution_count": 3,
   "id": "ab622813-580f-4fc8-8133-80bacae726ee",
   "metadata": {},
   "outputs": [
    {
     "data": {
      "text/plain": [
       "3"
      ]
     },
     "execution_count": 3,
     "metadata": {},
     "output_type": "execute_result"
    }
   ],
   "source": [
    "5-2\n"
   ]
  },
  {
   "cell_type": "code",
   "execution_count": 4,
   "id": "457139fb-183a-4f86-8a98-dab63b8ca7c2",
   "metadata": {},
   "outputs": [
    {
     "data": {
      "text/plain": [
       "10"
      ]
     },
     "execution_count": 4,
     "metadata": {},
     "output_type": "execute_result"
    }
   ],
   "source": [
    "5*2"
   ]
  },
  {
   "cell_type": "markdown",
   "id": "4a36ec82-a372-481f-8d02-f34081415f34",
   "metadata": {
    "jp-MarkdownHeadingCollapsed": true
   },
   "source": []
  },
  {
   "cell_type": "code",
   "execution_count": 6,
   "id": "ae99c372-bfd1-4569-8e69-d8ede56bd2dd",
   "metadata": {},
   "outputs": [
    {
     "data": {
      "text/plain": [
       "4.0"
      ]
     },
     "execution_count": 6,
     "metadata": {},
     "output_type": "execute_result"
    }
   ],
   "source": [
    "8/2"
   ]
  },
  {
   "cell_type": "code",
   "execution_count": 7,
   "id": "b00de11e-d92b-4e12-85e0-e775bc9654e7",
   "metadata": {},
   "outputs": [
    {
     "data": {
      "text/plain": [
       "4"
      ]
     },
     "execution_count": 7,
     "metadata": {},
     "output_type": "execute_result"
    }
   ],
   "source": [
    "9//2"
   ]
  },
  {
   "cell_type": "code",
   "execution_count": 8,
   "id": "153d31c0-2674-4a16-b787-93119c128706",
   "metadata": {},
   "outputs": [
    {
     "data": {
      "text/plain": [
       "8"
      ]
     },
     "execution_count": 8,
     "metadata": {},
     "output_type": "execute_result"
    }
   ],
   "source": [
    "2**3"
   ]
  },
  {
   "cell_type": "code",
   "execution_count": 9,
   "id": "29be1a64-2174-4ec2-b525-ffa717a916b3",
   "metadata": {},
   "outputs": [
    {
     "data": {
      "text/plain": [
       "1"
      ]
     },
     "execution_count": 9,
     "metadata": {},
     "output_type": "execute_result"
    }
   ],
   "source": [
    "5%2"
   ]
  },
  {
   "cell_type": "code",
   "execution_count": 10,
   "id": "241cfb91-64e5-4dad-aa51-dd58ae14b22c",
   "metadata": {},
   "outputs": [
    {
     "data": {
      "text/plain": [
       "6"
      ]
     },
     "execution_count": 10,
     "metadata": {},
     "output_type": "execute_result"
    }
   ],
   "source": [
    "5*2-4"
   ]
  },
  {
   "cell_type": "code",
   "execution_count": 11,
   "id": "80c6a30c-8453-4ece-aa4e-c8b879d11d49",
   "metadata": {},
   "outputs": [
    {
     "data": {
      "text/plain": [
       "-10"
      ]
     },
     "execution_count": 11,
     "metadata": {},
     "output_type": "execute_result"
    }
   ],
   "source": [
    "5*(2-4)"
   ]
  },
  {
   "cell_type": "code",
   "execution_count": 12,
   "id": "01d08e2b-d955-46c6-97c8-95a8de4a1da6",
   "metadata": {},
   "outputs": [],
   "source": [
    "var1=5-2+4"
   ]
  },
  {
   "cell_type": "code",
   "execution_count": 13,
   "id": "6174ff4b-a931-4927-9db0-49e59d8b2e05",
   "metadata": {},
   "outputs": [
    {
     "data": {
      "text/plain": [
       "7"
      ]
     },
     "execution_count": 13,
     "metadata": {},
     "output_type": "execute_result"
    }
   ],
   "source": [
    "var1"
   ]
  },
  {
   "cell_type": "code",
   "execution_count": 14,
   "id": "a37034f8-a793-4898-96b2-44f8be099e34",
   "metadata": {},
   "outputs": [
    {
     "data": {
      "text/plain": [
       "True"
      ]
     },
     "execution_count": 14,
     "metadata": {},
     "output_type": "execute_result"
    }
   ],
   "source": [
    "5>2"
   ]
  },
  {
   "cell_type": "code",
   "execution_count": 15,
   "id": "469c5ec2-95f3-41f3-9648-97bf26f1c31f",
   "metadata": {},
   "outputs": [
    {
     "data": {
      "text/plain": [
       "False"
      ]
     },
     "execution_count": 15,
     "metadata": {},
     "output_type": "execute_result"
    }
   ],
   "source": [
    "3<=2"
   ]
  },
  {
   "cell_type": "markdown",
   "id": "50033dc4-43e2-48c0-bab6-8ea7406f76ae",
   "metadata": {},
   "source": [
    "# strings"
   ]
  },
  {
   "cell_type": "code",
   "execution_count": null,
   "id": "679d7f55-5d02-4e4d-950f-769e58ad4f88",
   "metadata": {},
   "outputs": [],
   "source": []
  },
  {
   "cell_type": "code",
   "execution_count": null,
   "id": "070db429-5cf7-4d9c-a7af-763e9368546d",
   "metadata": {},
   "outputs": [],
   "source": []
  },
  {
   "cell_type": "code",
   "execution_count": 17,
   "id": "0c99d762-a83f-42c7-8d58-a4d5b026b07e",
   "metadata": {},
   "outputs": [
    {
     "data": {
      "text/plain": [
       "'we need to pass strings in double or single quotes'"
      ]
     },
     "execution_count": 17,
     "metadata": {},
     "output_type": "execute_result"
    }
   ],
   "source": [
    "\"we need to pass strings in double or single quotes\""
   ]
  },
  {
   "cell_type": "code",
   "execution_count": 18,
   "id": "5764fb4a-43ea-4eda-a3a0-ec4f69619392",
   "metadata": {},
   "outputs": [],
   "source": [
    "str1='we need to pass strings in double or single quotes'"
   ]
  },
  {
   "cell_type": "code",
   "execution_count": 19,
   "id": "257a263f-a23e-4dda-bbd0-7151cbac450a",
   "metadata": {},
   "outputs": [
    {
     "data": {
      "text/plain": [
       "'we need to pass strings in double or single quotes'"
      ]
     },
     "execution_count": 19,
     "metadata": {},
     "output_type": "execute_result"
    }
   ],
   "source": [
    "str1"
   ]
  },
  {
   "cell_type": "code",
   "execution_count": 20,
   "id": "a983a80f-e0e6-43cf-ba66-075e4ec4577d",
   "metadata": {},
   "outputs": [
    {
     "name": "stdout",
     "output_type": "stream",
     "text": [
      "we need to pass strings in double or single quotes\n"
     ]
    }
   ],
   "source": [
    "print(str1)"
   ]
  },
  {
   "cell_type": "code",
   "execution_count": 21,
   "id": "940df34b-1573-47de-a9fa-ee9193432f2e",
   "metadata": {},
   "outputs": [],
   "source": [
    "X='R'"
   ]
  },
  {
   "cell_type": "code",
   "execution_count": 22,
   "id": "9d7bbe14-db46-488e-960c-903d6f6f2ed2",
   "metadata": {},
   "outputs": [
    {
     "name": "stdout",
     "output_type": "stream",
     "text": [
      "st R tutorial\n",
      "st R tutorial\n",
      "st R tutorial we need to pass strings in double or single quotes\n"
     ]
    }
   ],
   "source": [
    "#printing\n",
    "print(f\"st {X} tutorial\")\n",
    "print(\"st {} tutorial\".format(X))\n",
    "\n",
    "print(\"st {} tutorial {}\".format(X,str1))"
   ]
  },
  {
   "cell_type": "code",
   "execution_count": 23,
   "id": "4cccbd6b-8488-4b5f-b10c-4f6360034d19",
   "metadata": {},
   "outputs": [
    {
     "data": {
      "text/plain": [
       "50"
      ]
     },
     "execution_count": 23,
     "metadata": {},
     "output_type": "execute_result"
    }
   ],
   "source": [
    "#count of chars\n",
    "len(str1)"
   ]
  },
  {
   "cell_type": "code",
   "execution_count": 24,
   "id": "f1c64f08-619e-4569-b84f-6bd858d8fe57",
   "metadata": {},
   "outputs": [
    {
     "data": {
      "text/plain": [
       "'we need to pass strings in double or single quotes'"
      ]
     },
     "execution_count": 24,
     "metadata": {},
     "output_type": "execute_result"
    }
   ],
   "source": [
    "#replace func\n",
    "str1\n"
   ]
  },
  {
   "cell_type": "code",
   "execution_count": 25,
   "id": "8e2b5d6d-c364-4237-a15b-dc23e0c7c99b",
   "metadata": {},
   "outputs": [
    {
     "data": {
      "text/plain": [
       "'we need to go thru strings in double or single quotes'"
      ]
     },
     "execution_count": 25,
     "metadata": {},
     "output_type": "execute_result"
    }
   ],
   "source": [
    "#if we want to replace pass to go thru we can use replace func\n",
    "str1.replace(\"pass\",\"go thru\")"
   ]
  },
  {
   "cell_type": "code",
   "execution_count": 26,
   "id": "7ca33739-85e1-48f5-8bea-c3eb0fa660ec",
   "metadata": {},
   "outputs": [],
   "source": [
    "XY=str1.replace(\"pass\",\"go thru\")"
   ]
  },
  {
   "cell_type": "code",
   "execution_count": 27,
   "id": "1884913a-783f-4ee5-b311-891ce053ff7b",
   "metadata": {},
   "outputs": [
    {
     "data": {
      "text/plain": [
       "'we need to go thru strings in double or single quotes'"
      ]
     },
     "execution_count": 27,
     "metadata": {},
     "output_type": "execute_result"
    }
   ],
   "source": [
    "XY"
   ]
  },
  {
   "cell_type": "code",
   "execution_count": 28,
   "id": "dedbeed1-ec76-4c02-bec3-b2dd52da0ac7",
   "metadata": {},
   "outputs": [],
   "source": [
    "##string indexing and string slicing"
   ]
  },
  {
   "cell_type": "code",
   "execution_count": 29,
   "id": "9826e318-ceae-4379-a883-923b7ca422b7",
   "metadata": {},
   "outputs": [
    {
     "data": {
      "text/plain": [
       "'w'"
      ]
     },
     "execution_count": 29,
     "metadata": {},
     "output_type": "execute_result"
    }
   ],
   "source": [
    "XY[1]\n",
    "XY[0]"
   ]
  },
  {
   "cell_type": "code",
   "execution_count": 30,
   "id": "b6e5cc90-a398-4fdc-ad2d-9e6dfd56be78",
   "metadata": {},
   "outputs": [
    {
     "data": {
      "text/plain": [
       "' ne'"
      ]
     },
     "execution_count": 30,
     "metadata": {},
     "output_type": "execute_result"
    }
   ],
   "source": [
    "XY[2:5]"
   ]
  },
  {
   "cell_type": "code",
   "execution_count": 31,
   "id": "c656e047-e43a-4a9d-add7-45d5e384f218",
   "metadata": {},
   "outputs": [
    {
     "data": {
      "text/plain": [
       "'eed to'"
      ]
     },
     "execution_count": 31,
     "metadata": {},
     "output_type": "execute_result"
    }
   ],
   "source": [
    "XY[4:10]"
   ]
  },
  {
   "cell_type": "code",
   "execution_count": 32,
   "id": "fead31ed-3b03-48bf-8f9d-ca3ae12bbca1",
   "metadata": {},
   "outputs": [
    {
     "data": {
      "text/plain": [
       "'s'"
      ]
     },
     "execution_count": 32,
     "metadata": {},
     "output_type": "execute_result"
    }
   ],
   "source": [
    "XY[-1]"
   ]
  },
  {
   "cell_type": "code",
   "execution_count": 33,
   "id": "164fc806-645e-420e-b455-dd7ed9b702c7",
   "metadata": {},
   "outputs": [
    {
     "data": {
      "text/plain": [
       "'we ne'"
      ]
     },
     "execution_count": 33,
     "metadata": {},
     "output_type": "execute_result"
    }
   ],
   "source": [
    "XY[:5]"
   ]
  },
  {
   "cell_type": "code",
   "execution_count": 34,
   "id": "934dd38c-9a8d-4151-b49f-88ac3aec4c69",
   "metadata": {},
   "outputs": [
    {
     "data": {
      "text/plain": [
       "'ed to go thru strings in double or single quotes'"
      ]
     },
     "execution_count": 34,
     "metadata": {},
     "output_type": "execute_result"
    }
   ],
   "source": [
    "XY[5:]"
   ]
  },
  {
   "cell_type": "code",
   "execution_count": 35,
   "id": "927900f5-7dd0-4667-84b5-b843cc580e0d",
   "metadata": {},
   "outputs": [
    {
     "data": {
      "text/plain": [
       "' edt'"
      ]
     },
     "execution_count": 35,
     "metadata": {},
     "output_type": "execute_result"
    }
   ],
   "source": [
    "XY[2:10:2]"
   ]
  },
  {
   "cell_type": "code",
   "execution_count": 36,
   "id": "707aab7a-b0e5-465a-9c91-8cdd80f841e6",
   "metadata": {},
   "outputs": [
    {
     "data": {
      "text/plain": [
       "'we need to go thru strings in double or single quotes'"
      ]
     },
     "execution_count": 36,
     "metadata": {},
     "output_type": "execute_result"
    }
   ],
   "source": [
    "XY"
   ]
  },
  {
   "cell_type": "markdown",
   "id": "6ccf3c12-4579-4afe-a521-7c0858b6cdd3",
   "metadata": {},
   "source": [
    "# list and tuple"
   ]
  },
  {
   "cell_type": "code",
   "execution_count": 38,
   "id": "856c683d-5e4d-4ac1-a4d5-4451b5aa3f93",
   "metadata": {},
   "outputs": [],
   "source": [
    "l1=[1,2,3,4,5]"
   ]
  },
  {
   "cell_type": "code",
   "execution_count": 39,
   "id": "044b564d-79ab-42d7-be26-7c9bc04d6b22",
   "metadata": {},
   "outputs": [
    {
     "data": {
      "text/plain": [
       "list"
      ]
     },
     "execution_count": 39,
     "metadata": {},
     "output_type": "execute_result"
    }
   ],
   "source": [
    "type(l1)"
   ]
  },
  {
   "cell_type": "code",
   "execution_count": 40,
   "id": "250adfeb-2bff-485c-89dc-0f4d0786b0c5",
   "metadata": {},
   "outputs": [
    {
     "name": "stdout",
     "output_type": "stream",
     "text": [
      "[1, 2, 3, 4, 5]\n"
     ]
    }
   ],
   "source": [
    "print(l1)"
   ]
  },
  {
   "cell_type": "code",
   "execution_count": 41,
   "id": "c3aff491-4c60-47bc-88ef-e8ac6b449af1",
   "metadata": {},
   "outputs": [
    {
     "data": {
      "text/plain": [
       "2"
      ]
     },
     "execution_count": 41,
     "metadata": {},
     "output_type": "execute_result"
    }
   ],
   "source": [
    "l1[1]"
   ]
  },
  {
   "cell_type": "code",
   "execution_count": 42,
   "id": "6acf1d4f-4a8f-4621-8057-9ec61e3d59a9",
   "metadata": {},
   "outputs": [
    {
     "data": {
      "text/plain": [
       "1"
      ]
     },
     "execution_count": 42,
     "metadata": {},
     "output_type": "execute_result"
    }
   ],
   "source": [
    "l1[0]"
   ]
  },
  {
   "cell_type": "code",
   "execution_count": 43,
   "id": "1b6f88d9-1a05-49b4-9b2c-59d30f6f92bf",
   "metadata": {},
   "outputs": [
    {
     "data": {
      "text/plain": [
       "[1, 2, 3]"
      ]
     },
     "execution_count": 43,
     "metadata": {},
     "output_type": "execute_result"
    }
   ],
   "source": [
    "l1[0:3]"
   ]
  },
  {
   "cell_type": "code",
   "execution_count": 44,
   "id": "018702d6-f770-4ebb-9b50-a37f286eab4f",
   "metadata": {},
   "outputs": [
    {
     "data": {
      "text/plain": [
       "[1, 3, 5]"
      ]
     },
     "execution_count": 44,
     "metadata": {},
     "output_type": "execute_result"
    }
   ],
   "source": [
    "l1[0:5:2]"
   ]
  },
  {
   "cell_type": "code",
   "execution_count": 45,
   "id": "65789dff-0bb1-4778-bf06-2de3c69d5552",
   "metadata": {},
   "outputs": [
    {
     "data": {
      "text/plain": [
       "[1, 3, 5]"
      ]
     },
     "execution_count": 45,
     "metadata": {},
     "output_type": "execute_result"
    }
   ],
   "source": [
    "l1[::2]"
   ]
  },
  {
   "cell_type": "code",
   "execution_count": 46,
   "id": "dfab3b2e-b3bc-4fde-92ff-b3d75499e6db",
   "metadata": {},
   "outputs": [
    {
     "data": {
      "text/plain": [
       "[1, 2, 3]"
      ]
     },
     "execution_count": 46,
     "metadata": {},
     "output_type": "execute_result"
    }
   ],
   "source": [
    "l1[:3]"
   ]
  },
  {
   "cell_type": "code",
   "execution_count": 47,
   "id": "f533e482-37ff-41f5-89ce-f1c6f8b7e48c",
   "metadata": {},
   "outputs": [
    {
     "data": {
      "text/plain": [
       "[4, 5]"
      ]
     },
     "execution_count": 47,
     "metadata": {},
     "output_type": "execute_result"
    }
   ],
   "source": [
    "l1[3:]"
   ]
  },
  {
   "cell_type": "code",
   "execution_count": 48,
   "id": "fa87c758-a677-41cd-9afc-7bb8ea29c2b1",
   "metadata": {},
   "outputs": [],
   "source": [
    "l2=[1,'a',1.0]"
   ]
  },
  {
   "cell_type": "code",
   "execution_count": 49,
   "id": "a8144e4c-b745-48cd-b900-2425a36eaf11",
   "metadata": {},
   "outputs": [
    {
     "data": {
      "text/plain": [
       "[1, 'a', 1.0]"
      ]
     },
     "execution_count": 49,
     "metadata": {},
     "output_type": "execute_result"
    }
   ],
   "source": [
    "l2"
   ]
  },
  {
   "cell_type": "code",
   "execution_count": 50,
   "id": "c10f29e6-d785-45a9-abe6-7a67d801d495",
   "metadata": {},
   "outputs": [
    {
     "data": {
      "text/plain": [
       "list"
      ]
     },
     "execution_count": 50,
     "metadata": {},
     "output_type": "execute_result"
    }
   ],
   "source": [
    "type(l2)"
   ]
  },
  {
   "cell_type": "code",
   "execution_count": 51,
   "id": "b7b76cc1-4d0a-4baa-bc56-055cf846d647",
   "metadata": {},
   "outputs": [
    {
     "data": {
      "text/plain": [
       "str"
      ]
     },
     "execution_count": 51,
     "metadata": {},
     "output_type": "execute_result"
    }
   ],
   "source": [
    "type(l2[1])"
   ]
  },
  {
   "cell_type": "code",
   "execution_count": 52,
   "id": "a55de3cf-cba7-4073-ba68-35ad884eea56",
   "metadata": {},
   "outputs": [],
   "source": [
    "#nested list (list inside a list)\n",
    "l3=[l2,1,2.0]"
   ]
  },
  {
   "cell_type": "code",
   "execution_count": 53,
   "id": "342bb104-9c31-45f5-8b46-f99dda139408",
   "metadata": {},
   "outputs": [
    {
     "data": {
      "text/plain": [
       "[[1, 'a', 1.0], 1, 2.0]"
      ]
     },
     "execution_count": 53,
     "metadata": {},
     "output_type": "execute_result"
    }
   ],
   "source": [
    "l3"
   ]
  },
  {
   "cell_type": "code",
   "execution_count": 54,
   "id": "ef12f649-2691-4f73-bfec-bf883927f987",
   "metadata": {},
   "outputs": [
    {
     "data": {
      "text/plain": [
       "int"
      ]
     },
     "execution_count": 54,
     "metadata": {},
     "output_type": "execute_result"
    }
   ],
   "source": [
    "type(l3[1])"
   ]
  },
  {
   "cell_type": "code",
   "execution_count": 55,
   "id": "7cadf129-56d2-462b-9b09-7d7ba4883680",
   "metadata": {},
   "outputs": [
    {
     "data": {
      "text/plain": [
       "'a'"
      ]
     },
     "execution_count": 55,
     "metadata": {},
     "output_type": "execute_result"
    }
   ],
   "source": [
    "l3[0][1]"
   ]
  },
  {
   "cell_type": "code",
   "execution_count": 56,
   "id": "a7a900a3-6ce0-4a91-9131-7c414d92a65a",
   "metadata": {},
   "outputs": [
    {
     "data": {
      "text/plain": [
       "[0, 2, 4, 6, 8]"
      ]
     },
     "execution_count": 56,
     "metadata": {},
     "output_type": "execute_result"
    }
   ],
   "source": [
    "#generating a list\n",
    "list(range(0,10,2))"
   ]
  },
  {
   "cell_type": "code",
   "execution_count": 57,
   "id": "833d89c3-a5a5-4795-980c-15ea769d6007",
   "metadata": {},
   "outputs": [],
   "source": [
    "l4=list(range(0,10,2))"
   ]
  },
  {
   "cell_type": "code",
   "execution_count": 58,
   "id": "86b9f180-fc63-479d-94ff-91ddfce020a4",
   "metadata": {},
   "outputs": [
    {
     "data": {
      "text/plain": [
       "[0, 2, 4, 6, 8]"
      ]
     },
     "execution_count": 58,
     "metadata": {},
     "output_type": "execute_result"
    }
   ],
   "source": [
    "l4"
   ]
  },
  {
   "cell_type": "code",
   "execution_count": 59,
   "id": "0a72c19e-dc8c-4c6a-8c7f-8a18c94f58af",
   "metadata": {},
   "outputs": [],
   "source": [
    "l4.sort(reverse=True)"
   ]
  },
  {
   "cell_type": "code",
   "execution_count": 60,
   "id": "b90f94a4-5050-4248-bde3-6be8aaee06ba",
   "metadata": {},
   "outputs": [
    {
     "data": {
      "text/plain": [
       "[8, 6, 4, 2, 0]"
      ]
     },
     "execution_count": 60,
     "metadata": {},
     "output_type": "execute_result"
    }
   ],
   "source": [
    "l4"
   ]
  },
  {
   "cell_type": "code",
   "execution_count": 61,
   "id": "926252a0-65b3-434a-8507-86d774e1f9d3",
   "metadata": {},
   "outputs": [],
   "source": [
    "#changing the value of elements\n",
    "l4[0]=3"
   ]
  },
  {
   "cell_type": "code",
   "execution_count": 62,
   "id": "9abffac7-e0f9-465c-a793-d69a01d94a70",
   "metadata": {},
   "outputs": [
    {
     "data": {
      "text/plain": [
       "[3, 6, 4, 2, 0]"
      ]
     },
     "execution_count": 62,
     "metadata": {},
     "output_type": "execute_result"
    }
   ],
   "source": [
    "l4"
   ]
  },
  {
   "cell_type": "code",
   "execution_count": 63,
   "id": "bb97b153-de7c-463b-9959-31f513558280",
   "metadata": {},
   "outputs": [],
   "source": [
    "l4[1:3]=[5,7]"
   ]
  },
  {
   "cell_type": "code",
   "execution_count": 64,
   "id": "75269d31-d530-42bf-a038-0255513fd32d",
   "metadata": {},
   "outputs": [
    {
     "data": {
      "text/plain": [
       "[3, 5, 7, 2, 0]"
      ]
     },
     "execution_count": 64,
     "metadata": {},
     "output_type": "execute_result"
    }
   ],
   "source": [
    "l4"
   ]
  },
  {
   "cell_type": "code",
   "execution_count": 65,
   "id": "ea51fac9-4eab-420c-b751-fc808232aba6",
   "metadata": {},
   "outputs": [],
   "source": [
    "#inserting elements\n",
    "l4.insert(0,\"15\")"
   ]
  },
  {
   "cell_type": "code",
   "execution_count": 66,
   "id": "bbb62769-3f21-47a6-90d3-8f0e60f077ec",
   "metadata": {},
   "outputs": [
    {
     "data": {
      "text/plain": [
       "['15', 3, 5, 7, 2, 0]"
      ]
     },
     "execution_count": 66,
     "metadata": {},
     "output_type": "execute_result"
    }
   ],
   "source": [
    "l4"
   ]
  },
  {
   "cell_type": "code",
   "execution_count": 67,
   "id": "31a5b225-1517-4f37-953d-63b246141195",
   "metadata": {},
   "outputs": [],
   "source": [
    "#removing or deleting element\n",
    "l4.remove(3)"
   ]
  },
  {
   "cell_type": "code",
   "execution_count": 68,
   "id": "31203b18-c527-4f7c-b4eb-3502991607c3",
   "metadata": {},
   "outputs": [
    {
     "data": {
      "text/plain": [
       "['15', 5, 7, 2, 0]"
      ]
     },
     "execution_count": 68,
     "metadata": {},
     "output_type": "execute_result"
    }
   ],
   "source": [
    "l4\n"
   ]
  },
  {
   "cell_type": "code",
   "execution_count": 69,
   "id": "500cc7ba-fd57-436a-977f-79af0fcfddac",
   "metadata": {},
   "outputs": [],
   "source": [
    "del l4[0]"
   ]
  },
  {
   "cell_type": "code",
   "execution_count": 70,
   "id": "0b1712ec-6fbd-4c34-a1eb-1978edfc00ed",
   "metadata": {},
   "outputs": [
    {
     "data": {
      "text/plain": [
       "[5, 7, 2, 0]"
      ]
     },
     "execution_count": 70,
     "metadata": {},
     "output_type": "execute_result"
    }
   ],
   "source": [
    "l4"
   ]
  },
  {
   "cell_type": "code",
   "execution_count": 71,
   "id": "a2d6807a-969a-4ab9-b6fb-bdfcdc6342a9",
   "metadata": {},
   "outputs": [],
   "source": [
    "\n",
    "l4.remove(7)"
   ]
  },
  {
   "cell_type": "code",
   "execution_count": 72,
   "id": "5d67d7bc-3fc9-409a-a06e-a17cac763384",
   "metadata": {},
   "outputs": [
    {
     "data": {
      "text/plain": [
       "[5, 2, 0]"
      ]
     },
     "execution_count": 72,
     "metadata": {},
     "output_type": "execute_result"
    }
   ],
   "source": [
    "l4"
   ]
  },
  {
   "cell_type": "markdown",
   "id": "e2e1f150-2cfa-4df6-94fa-0734fe72a9e3",
   "metadata": {},
   "source": [
    "# tuples"
   ]
  },
  {
   "cell_type": "code",
   "execution_count": 74,
   "id": "237ade97-2a5a-4169-be17-4e3cf348c9e0",
   "metadata": {},
   "outputs": [],
   "source": [
    "t1=(1,2)"
   ]
  },
  {
   "cell_type": "code",
   "execution_count": 75,
   "id": "11df7960-d1fb-4259-a8b4-5a59a207ee2a",
   "metadata": {},
   "outputs": [
    {
     "data": {
      "text/plain": [
       "(1, 2)"
      ]
     },
     "execution_count": 75,
     "metadata": {},
     "output_type": "execute_result"
    }
   ],
   "source": [
    "t1"
   ]
  },
  {
   "cell_type": "code",
   "execution_count": 76,
   "id": "ace000b8-fb55-484a-9677-27bf428c27d0",
   "metadata": {},
   "outputs": [],
   "source": [
    "# we cannot change the tuple once created\n"
   ]
  },
  {
   "cell_type": "markdown",
   "id": "be859405-ade4-4386-ad36-48feacafb25c",
   "metadata": {},
   "source": [
    "# dictionary"
   ]
  },
  {
   "cell_type": "code",
   "execution_count": 78,
   "id": "174c75f4-4d23-4a51-80ab-1e3b2dc5b86a",
   "metadata": {},
   "outputs": [],
   "source": [
    "d1={\n",
    "    \"key1\":1,\n",
    "    \"key2\":2,\n",
    "    \"key3\":3\n",
    "}"
   ]
  },
  {
   "cell_type": "code",
   "execution_count": 79,
   "id": "d044ea6d-5c62-4791-a264-2b08e428f3c6",
   "metadata": {},
   "outputs": [
    {
     "data": {
      "text/plain": [
       "{'key1': 1, 'key2': 2, 'key3': 3}"
      ]
     },
     "execution_count": 79,
     "metadata": {},
     "output_type": "execute_result"
    }
   ],
   "source": [
    "d1"
   ]
  },
  {
   "cell_type": "code",
   "execution_count": 80,
   "id": "cf942fa9-b65c-4ab8-909e-2f209e244de5",
   "metadata": {},
   "outputs": [
    {
     "data": {
      "text/plain": [
       "dict"
      ]
     },
     "execution_count": 80,
     "metadata": {},
     "output_type": "execute_result"
    }
   ],
   "source": [
    "type(d1)"
   ]
  },
  {
   "cell_type": "code",
   "execution_count": 81,
   "id": "4fdc0872-f2d3-4ddd-bba7-7ba0c82b2f6c",
   "metadata": {},
   "outputs": [
    {
     "data": {
      "text/plain": [
       "1"
      ]
     },
     "execution_count": 81,
     "metadata": {},
     "output_type": "execute_result"
    }
   ],
   "source": [
    "d1[\"key1\"]"
   ]
  },
  {
   "cell_type": "markdown",
   "id": "731617d7-dd10-4960-83c0-3273a0af0cbf",
   "metadata": {},
   "source": [
    "# working with numpy\n",
    "-numpy is a python library used to work with arrays"
   ]
  },
  {
   "cell_type": "code",
   "execution_count": 83,
   "id": "3a0069f5-2351-4b63-9870-5594f0196ae0",
   "metadata": {},
   "outputs": [],
   "source": [
    "import numpy as np"
   ]
  },
  {
   "cell_type": "code",
   "execution_count": 84,
   "id": "7dd3db14-c16d-4e86-a564-d54dd612e99c",
   "metadata": {},
   "outputs": [],
   "source": [
    "np1=np.array([1,2,3,4])"
   ]
  },
  {
   "cell_type": "code",
   "execution_count": 85,
   "id": "2528bf74-e892-4b44-8c88-7a1c780d2e52",
   "metadata": {},
   "outputs": [
    {
     "data": {
      "text/plain": [
       "array([1, 2, 3, 4])"
      ]
     },
     "execution_count": 85,
     "metadata": {},
     "output_type": "execute_result"
    }
   ],
   "source": [
    "np1\n"
   ]
  },
  {
   "cell_type": "code",
   "execution_count": 86,
   "id": "09246c00-f0e6-4333-883a-19eb77396857",
   "metadata": {},
   "outputs": [
    {
     "data": {
      "text/plain": [
       "numpy.ndarray"
      ]
     },
     "execution_count": 86,
     "metadata": {},
     "output_type": "execute_result"
    }
   ],
   "source": [
    "type(np1)"
   ]
  },
  {
   "cell_type": "code",
   "execution_count": 87,
   "id": "f00db9dc-d4ff-4d32-b6d6-a4a5dbb4ba59",
   "metadata": {},
   "outputs": [],
   "source": [
    "#matrix\n",
    "mat1=np.array([[1,2],[3,4]])"
   ]
  },
  {
   "cell_type": "code",
   "execution_count": 88,
   "id": "2383c186-43cb-4160-b479-0169071512e8",
   "metadata": {},
   "outputs": [
    {
     "data": {
      "text/plain": [
       "array([[1, 2],\n",
       "       [3, 4]])"
      ]
     },
     "execution_count": 88,
     "metadata": {},
     "output_type": "execute_result"
    }
   ],
   "source": [
    "mat1"
   ]
  },
  {
   "cell_type": "code",
   "execution_count": 89,
   "id": "48d7dc20-7d60-40b0-9f1e-5b6a363fd331",
   "metadata": {},
   "outputs": [
    {
     "data": {
      "text/plain": [
       "(4,)"
      ]
     },
     "execution_count": 89,
     "metadata": {},
     "output_type": "execute_result"
    }
   ],
   "source": [
    "np1.shape"
   ]
  },
  {
   "cell_type": "code",
   "execution_count": 90,
   "id": "29a8f836-eeba-4caf-8734-435679807cad",
   "metadata": {},
   "outputs": [
    {
     "data": {
      "text/plain": [
       "(2, 2)"
      ]
     },
     "execution_count": 90,
     "metadata": {},
     "output_type": "execute_result"
    }
   ],
   "source": [
    "mat1.shape"
   ]
  },
  {
   "cell_type": "code",
   "execution_count": 91,
   "id": "5f0772dd-1dfb-471d-9753-d32d7a020922",
   "metadata": {},
   "outputs": [
    {
     "data": {
      "text/plain": [
       "dtype('int32')"
      ]
     },
     "execution_count": 91,
     "metadata": {},
     "output_type": "execute_result"
    }
   ],
   "source": [
    "mat1.dtype"
   ]
  },
  {
   "cell_type": "code",
   "execution_count": 92,
   "id": "7dc663e5-8f6d-4a95-9321-49147a693e48",
   "metadata": {},
   "outputs": [],
   "source": [
    "mat1[0,0]=5"
   ]
  },
  {
   "cell_type": "code",
   "execution_count": 93,
   "id": "5c0990f5-d4a1-42e8-a635-8cb28400e37f",
   "metadata": {},
   "outputs": [
    {
     "data": {
      "text/plain": [
       "array([[5, 2],\n",
       "       [3, 4]])"
      ]
     },
     "execution_count": 93,
     "metadata": {},
     "output_type": "execute_result"
    }
   ],
   "source": [
    "mat1"
   ]
  },
  {
   "cell_type": "code",
   "execution_count": 94,
   "id": "ca6c4484-9d4b-43c7-8404-9d43b5d4a65f",
   "metadata": {},
   "outputs": [],
   "source": [
    "#creating a matrix from range\n",
    "mat2=np.arange(0,10,1)"
   ]
  },
  {
   "cell_type": "code",
   "execution_count": 95,
   "id": "7455d44c-9f80-49bc-bce5-57bd4fea2c3d",
   "metadata": {},
   "outputs": [
    {
     "data": {
      "text/plain": [
       "array([0, 1, 2, 3, 4, 5, 6, 7, 8, 9])"
      ]
     },
     "execution_count": 95,
     "metadata": {},
     "output_type": "execute_result"
    }
   ],
   "source": [
    "mat2"
   ]
  },
  {
   "cell_type": "code",
   "execution_count": 96,
   "id": "3c9a53da-639b-424c-a09f-ce2679705ee8",
   "metadata": {},
   "outputs": [],
   "source": [
    "mat3=np.linspace(0,10,20)"
   ]
  },
  {
   "cell_type": "code",
   "execution_count": 97,
   "id": "8cc4f565-a4f8-40fc-aad4-670f52c48ab5",
   "metadata": {},
   "outputs": [
    {
     "data": {
      "text/plain": [
       "array([ 0.        ,  0.52631579,  1.05263158,  1.57894737,  2.10526316,\n",
       "        2.63157895,  3.15789474,  3.68421053,  4.21052632,  4.73684211,\n",
       "        5.26315789,  5.78947368,  6.31578947,  6.84210526,  7.36842105,\n",
       "        7.89473684,  8.42105263,  8.94736842,  9.47368421, 10.        ])"
      ]
     },
     "execution_count": 97,
     "metadata": {},
     "output_type": "execute_result"
    }
   ],
   "source": [
    "mat3"
   ]
  },
  {
   "cell_type": "code",
   "execution_count": 98,
   "id": "00471ef9-45d1-4ae0-b6ce-393dc8fb81f0",
   "metadata": {},
   "outputs": [
    {
     "data": {
      "text/plain": [
       "(20,)"
      ]
     },
     "execution_count": 98,
     "metadata": {},
     "output_type": "execute_result"
    }
   ],
   "source": [
    "mat3.shape"
   ]
  },
  {
   "cell_type": "code",
   "execution_count": 99,
   "id": "96d12cc2-11c5-4237-b8d4-955a09af8de6",
   "metadata": {},
   "outputs": [],
   "source": [
    "mat4=np.random.rand(5,5)"
   ]
  },
  {
   "cell_type": "code",
   "execution_count": 100,
   "id": "f9cb41c4-5b9e-4cd9-9c47-887c5f9517b4",
   "metadata": {},
   "outputs": [
    {
     "data": {
      "text/plain": [
       "array([[0.58305027, 0.85075446, 0.62226614, 0.48345645, 0.99237991],\n",
       "       [0.5627555 , 0.68087627, 0.58165511, 0.50654519, 0.05548718],\n",
       "       [0.31494891, 0.69093227, 0.93724899, 0.22098904, 0.2011858 ],\n",
       "       [0.14854594, 0.10949445, 0.49379114, 0.84151491, 0.03558554],\n",
       "       [0.64139345, 0.65802389, 0.31621004, 0.32570878, 0.24253134]])"
      ]
     },
     "execution_count": 100,
     "metadata": {},
     "output_type": "execute_result"
    }
   ],
   "source": [
    "mat4"
   ]
  },
  {
   "cell_type": "code",
   "execution_count": 101,
   "id": "2af30545-6dd9-48d4-80f1-74209f3c7dbc",
   "metadata": {},
   "outputs": [],
   "source": [
    "mat5=np.random.randn(5,5)"
   ]
  },
  {
   "cell_type": "code",
   "execution_count": 102,
   "id": "ef15ffdd-c19e-4280-8900-ff1025c5b855",
   "metadata": {},
   "outputs": [
    {
     "data": {
      "text/plain": [
       "array([[ 0.03065666, -1.30887538, -0.12405992,  0.84891123, -0.87600903],\n",
       "       [ 2.39970531,  0.92729338, -1.20192218, -1.11427573,  0.21959294],\n",
       "       [ 1.58957409, -1.43659575, -0.05238798, -0.90004982,  1.35087665],\n",
       "       [-0.85431169, -1.03842041,  0.71886894,  1.62998145,  1.37634712],\n",
       "       [-1.18753139, -0.36431163,  0.10886933, -0.04834325,  1.18626911]])"
      ]
     },
     "execution_count": 102,
     "metadata": {},
     "output_type": "execute_result"
    }
   ],
   "source": [
    "mat5"
   ]
  },
  {
   "cell_type": "code",
   "execution_count": 103,
   "id": "f9ba481e-9cdc-413e-b7bf-16bf9b502992",
   "metadata": {},
   "outputs": [
    {
     "data": {
      "text/plain": [
       "0.030656655319505424"
      ]
     },
     "execution_count": 103,
     "metadata": {},
     "output_type": "execute_result"
    }
   ],
   "source": [
    "mat5[0,0]"
   ]
  },
  {
   "cell_type": "code",
   "execution_count": 104,
   "id": "d70b21a2-c3fb-4664-a410-a25f6dd8f6a6",
   "metadata": {},
   "outputs": [
    {
     "data": {
      "text/plain": [
       "-1.308875382395222"
      ]
     },
     "execution_count": 104,
     "metadata": {},
     "output_type": "execute_result"
    }
   ],
   "source": [
    "mat5[0,1]"
   ]
  },
  {
   "cell_type": "code",
   "execution_count": 105,
   "id": "7c7130bf-86bf-4104-960c-8876b2363a41",
   "metadata": {},
   "outputs": [
    {
     "data": {
      "text/plain": [
       "array([[ 0.03065666, -1.30887538, -0.12405992,  0.84891123, -0.87600903],\n",
       "       [ 2.39970531,  0.92729338, -1.20192218, -1.11427573,  0.21959294],\n",
       "       [ 1.58957409, -1.43659575, -0.05238798, -0.90004982,  1.35087665]])"
      ]
     },
     "execution_count": 105,
     "metadata": {},
     "output_type": "execute_result"
    }
   ],
   "source": [
    "mat5[0:3,:]"
   ]
  },
  {
   "cell_type": "markdown",
   "id": "607aa7fe-e22e-44e9-a1ef-4733bdfffdd3",
   "metadata": {},
   "source": [
    "# Pandas\n",
    "for data manipulation and analysis"
   ]
  },
  {
   "cell_type": "code",
   "execution_count": 107,
   "id": "d2d6109b-30a8-44a0-b386-1499860edb9f",
   "metadata": {},
   "outputs": [],
   "source": [
    "import pandas as pd"
   ]
  },
  {
   "cell_type": "code",
   "execution_count": 108,
   "id": "b38f21df-9738-4b4e-9230-9a989851d8c8",
   "metadata": {},
   "outputs": [],
   "source": [
    "data1=pd.read_csv('C:/Users/Aditya/Desktop/customer.csv',header=0)"
   ]
  },
  {
   "cell_type": "code",
   "execution_count": 109,
   "id": "4c4ce62c-bf88-402c-8bb0-6913b0f0768d",
   "metadata": {},
   "outputs": [
    {
     "data": {
      "text/html": [
       "<div>\n",
       "<style scoped>\n",
       "    .dataframe tbody tr th:only-of-type {\n",
       "        vertical-align: middle;\n",
       "    }\n",
       "\n",
       "    .dataframe tbody tr th {\n",
       "        vertical-align: top;\n",
       "    }\n",
       "\n",
       "    .dataframe thead th {\n",
       "        text-align: right;\n",
       "    }\n",
       "</style>\n",
       "<table border=\"1\" class=\"dataframe\">\n",
       "  <thead>\n",
       "    <tr style=\"text-align: right;\">\n",
       "      <th></th>\n",
       "      <th>Unnamed: 0</th>\n",
       "      <th>Customer</th>\n",
       "      <th>State</th>\n",
       "      <th>CustomerLifetimeValue</th>\n",
       "      <th>Response</th>\n",
       "      <th>Coverage</th>\n",
       "      <th>Education</th>\n",
       "      <th>EffectiveToDate</th>\n",
       "      <th>EmploymentStatus</th>\n",
       "      <th>Gender</th>\n",
       "      <th>...</th>\n",
       "      <th>MonthsSincePolicyInception</th>\n",
       "      <th>NumberofOpenComplaints</th>\n",
       "      <th>NumberofPolicies</th>\n",
       "      <th>PolicyType</th>\n",
       "      <th>Policy</th>\n",
       "      <th>RenewOfferType</th>\n",
       "      <th>SalesChannel</th>\n",
       "      <th>ClaimAmount</th>\n",
       "      <th>VehicleClass</th>\n",
       "      <th>VehicleSize</th>\n",
       "    </tr>\n",
       "  </thead>\n",
       "  <tbody>\n",
       "    <tr>\n",
       "      <th>0</th>\n",
       "      <td>0</td>\n",
       "      <td>BU79786</td>\n",
       "      <td>Washington</td>\n",
       "      <td>2763.519279</td>\n",
       "      <td>No</td>\n",
       "      <td>Basic</td>\n",
       "      <td>Bachelor</td>\n",
       "      <td>2/24/11</td>\n",
       "      <td>Employed</td>\n",
       "      <td>F</td>\n",
       "      <td>...</td>\n",
       "      <td>5</td>\n",
       "      <td>0</td>\n",
       "      <td>1</td>\n",
       "      <td>Corporate Auto</td>\n",
       "      <td>Corporate L3</td>\n",
       "      <td>Offer1</td>\n",
       "      <td>Agent</td>\n",
       "      <td>384.811147</td>\n",
       "      <td>Two-Door Car</td>\n",
       "      <td>Medsize</td>\n",
       "    </tr>\n",
       "    <tr>\n",
       "      <th>1</th>\n",
       "      <td>1</td>\n",
       "      <td>QZ44356</td>\n",
       "      <td>Arizona</td>\n",
       "      <td>6979.535903</td>\n",
       "      <td>No</td>\n",
       "      <td>Extended</td>\n",
       "      <td>Bachelor</td>\n",
       "      <td>1/31/11</td>\n",
       "      <td>Unemployed</td>\n",
       "      <td>F</td>\n",
       "      <td>...</td>\n",
       "      <td>42</td>\n",
       "      <td>0</td>\n",
       "      <td>8</td>\n",
       "      <td>Personal Auto</td>\n",
       "      <td>Personal L3</td>\n",
       "      <td>Offer3</td>\n",
       "      <td>Agent</td>\n",
       "      <td>1131.464935</td>\n",
       "      <td>Four-Door Car</td>\n",
       "      <td>Medsize</td>\n",
       "    </tr>\n",
       "    <tr>\n",
       "      <th>2</th>\n",
       "      <td>2</td>\n",
       "      <td>AI49188</td>\n",
       "      <td>Nevada</td>\n",
       "      <td>12887.431650</td>\n",
       "      <td>No</td>\n",
       "      <td>Premium</td>\n",
       "      <td>Bachelor</td>\n",
       "      <td>2/19/11</td>\n",
       "      <td>Employed</td>\n",
       "      <td>F</td>\n",
       "      <td>...</td>\n",
       "      <td>38</td>\n",
       "      <td>0</td>\n",
       "      <td>2</td>\n",
       "      <td>Personal Auto</td>\n",
       "      <td>Personal L3</td>\n",
       "      <td>Offer1</td>\n",
       "      <td>Agent</td>\n",
       "      <td>566.472247</td>\n",
       "      <td>Two-Door Car</td>\n",
       "      <td>Medsize</td>\n",
       "    </tr>\n",
       "    <tr>\n",
       "      <th>3</th>\n",
       "      <td>3</td>\n",
       "      <td>WW63253</td>\n",
       "      <td>California</td>\n",
       "      <td>7645.861827</td>\n",
       "      <td>No</td>\n",
       "      <td>Basic</td>\n",
       "      <td>Bachelor</td>\n",
       "      <td>1/20/11</td>\n",
       "      <td>Unemployed</td>\n",
       "      <td>M</td>\n",
       "      <td>...</td>\n",
       "      <td>65</td>\n",
       "      <td>0</td>\n",
       "      <td>7</td>\n",
       "      <td>Corporate Auto</td>\n",
       "      <td>Corporate L2</td>\n",
       "      <td>Offer1</td>\n",
       "      <td>Call Center</td>\n",
       "      <td>529.881344</td>\n",
       "      <td>SUV</td>\n",
       "      <td>Medsize</td>\n",
       "    </tr>\n",
       "    <tr>\n",
       "      <th>4</th>\n",
       "      <td>4</td>\n",
       "      <td>HB64268</td>\n",
       "      <td>Washington</td>\n",
       "      <td>2813.692575</td>\n",
       "      <td>No</td>\n",
       "      <td>Basic</td>\n",
       "      <td>Bachelor</td>\n",
       "      <td>2/3/11</td>\n",
       "      <td>Employed</td>\n",
       "      <td>M</td>\n",
       "      <td>...</td>\n",
       "      <td>44</td>\n",
       "      <td>0</td>\n",
       "      <td>1</td>\n",
       "      <td>Personal Auto</td>\n",
       "      <td>Personal L1</td>\n",
       "      <td>Offer1</td>\n",
       "      <td>Agent</td>\n",
       "      <td>138.130879</td>\n",
       "      <td>Four-Door Car</td>\n",
       "      <td>Medsize</td>\n",
       "    </tr>\n",
       "    <tr>\n",
       "      <th>5</th>\n",
       "      <td>5</td>\n",
       "      <td>OC83172</td>\n",
       "      <td>Oregon</td>\n",
       "      <td>8256.297800</td>\n",
       "      <td>Yes</td>\n",
       "      <td>Basic</td>\n",
       "      <td>Bachelor</td>\n",
       "      <td>1/25/11</td>\n",
       "      <td>Employed</td>\n",
       "      <td>F</td>\n",
       "      <td>...</td>\n",
       "      <td>94</td>\n",
       "      <td>0</td>\n",
       "      <td>2</td>\n",
       "      <td>Personal Auto</td>\n",
       "      <td>Personal L3</td>\n",
       "      <td>Offer2</td>\n",
       "      <td>Web</td>\n",
       "      <td>159.383042</td>\n",
       "      <td>Two-Door Car</td>\n",
       "      <td>Medsize</td>\n",
       "    </tr>\n",
       "    <tr>\n",
       "      <th>6</th>\n",
       "      <td>6</td>\n",
       "      <td>XZ87318</td>\n",
       "      <td>Oregon</td>\n",
       "      <td>5380.898636</td>\n",
       "      <td>Yes</td>\n",
       "      <td>Basic</td>\n",
       "      <td>College</td>\n",
       "      <td>2/24/11</td>\n",
       "      <td>Employed</td>\n",
       "      <td>F</td>\n",
       "      <td>...</td>\n",
       "      <td>13</td>\n",
       "      <td>0</td>\n",
       "      <td>9</td>\n",
       "      <td>Corporate Auto</td>\n",
       "      <td>Corporate L3</td>\n",
       "      <td>Offer1</td>\n",
       "      <td>Agent</td>\n",
       "      <td>321.600000</td>\n",
       "      <td>Four-Door Car</td>\n",
       "      <td>Medsize</td>\n",
       "    </tr>\n",
       "  </tbody>\n",
       "</table>\n",
       "<p>7 rows × 25 columns</p>\n",
       "</div>"
      ],
      "text/plain": [
       "   Unnamed: 0 Customer       State  CustomerLifetimeValue Response  Coverage  \\\n",
       "0           0  BU79786  Washington            2763.519279       No     Basic   \n",
       "1           1  QZ44356     Arizona            6979.535903       No  Extended   \n",
       "2           2  AI49188      Nevada           12887.431650       No   Premium   \n",
       "3           3  WW63253  California            7645.861827       No     Basic   \n",
       "4           4  HB64268  Washington            2813.692575       No     Basic   \n",
       "5           5  OC83172      Oregon            8256.297800      Yes     Basic   \n",
       "6           6  XZ87318      Oregon            5380.898636      Yes     Basic   \n",
       "\n",
       "  Education EffectiveToDate EmploymentStatus Gender  ...  \\\n",
       "0  Bachelor         2/24/11         Employed      F  ...   \n",
       "1  Bachelor         1/31/11       Unemployed      F  ...   \n",
       "2  Bachelor         2/19/11         Employed      F  ...   \n",
       "3  Bachelor         1/20/11       Unemployed      M  ...   \n",
       "4  Bachelor          2/3/11         Employed      M  ...   \n",
       "5  Bachelor         1/25/11         Employed      F  ...   \n",
       "6   College         2/24/11         Employed      F  ...   \n",
       "\n",
       "   MonthsSincePolicyInception NumberofOpenComplaints NumberofPolicies  \\\n",
       "0                           5                      0                1   \n",
       "1                          42                      0                8   \n",
       "2                          38                      0                2   \n",
       "3                          65                      0                7   \n",
       "4                          44                      0                1   \n",
       "5                          94                      0                2   \n",
       "6                          13                      0                9   \n",
       "\n",
       "       PolicyType        Policy  RenewOfferType  SalesChannel  ClaimAmount  \\\n",
       "0  Corporate Auto  Corporate L3          Offer1         Agent   384.811147   \n",
       "1   Personal Auto   Personal L3          Offer3         Agent  1131.464935   \n",
       "2   Personal Auto   Personal L3          Offer1         Agent   566.472247   \n",
       "3  Corporate Auto  Corporate L2          Offer1   Call Center   529.881344   \n",
       "4   Personal Auto   Personal L1          Offer1         Agent   138.130879   \n",
       "5   Personal Auto   Personal L3          Offer2           Web   159.383042   \n",
       "6  Corporate Auto  Corporate L3          Offer1         Agent   321.600000   \n",
       "\n",
       "    VehicleClass VehicleSize  \n",
       "0   Two-Door Car     Medsize  \n",
       "1  Four-Door Car     Medsize  \n",
       "2   Two-Door Car     Medsize  \n",
       "3            SUV     Medsize  \n",
       "4  Four-Door Car     Medsize  \n",
       "5   Two-Door Car     Medsize  \n",
       "6  Four-Door Car     Medsize  \n",
       "\n",
       "[7 rows x 25 columns]"
      ]
     },
     "execution_count": 109,
     "metadata": {},
     "output_type": "execute_result"
    }
   ],
   "source": [
    "data1.head(7)"
   ]
  },
  {
   "cell_type": "code",
   "execution_count": 110,
   "id": "0ee10f4d-b754-4d37-8acb-bffeef6890df",
   "metadata": {},
   "outputs": [],
   "source": [
    "data2=pd.read_csv('C:/Users/Aditya/Desktop/customer.csv',index_col=0)"
   ]
  },
  {
   "cell_type": "code",
   "execution_count": 111,
   "id": "c41c098c-7d6c-4a57-a3f9-a8aa38f7aaeb",
   "metadata": {},
   "outputs": [
    {
     "data": {
      "text/html": [
       "<div>\n",
       "<style scoped>\n",
       "    .dataframe tbody tr th:only-of-type {\n",
       "        vertical-align: middle;\n",
       "    }\n",
       "\n",
       "    .dataframe tbody tr th {\n",
       "        vertical-align: top;\n",
       "    }\n",
       "\n",
       "    .dataframe thead th {\n",
       "        text-align: right;\n",
       "    }\n",
       "</style>\n",
       "<table border=\"1\" class=\"dataframe\">\n",
       "  <thead>\n",
       "    <tr style=\"text-align: right;\">\n",
       "      <th></th>\n",
       "      <th>Customer</th>\n",
       "      <th>State</th>\n",
       "      <th>CustomerLifetimeValue</th>\n",
       "      <th>Response</th>\n",
       "      <th>Coverage</th>\n",
       "      <th>Education</th>\n",
       "      <th>EffectiveToDate</th>\n",
       "      <th>EmploymentStatus</th>\n",
       "      <th>Gender</th>\n",
       "      <th>Income</th>\n",
       "      <th>...</th>\n",
       "      <th>MonthsSincePolicyInception</th>\n",
       "      <th>NumberofOpenComplaints</th>\n",
       "      <th>NumberofPolicies</th>\n",
       "      <th>PolicyType</th>\n",
       "      <th>Policy</th>\n",
       "      <th>RenewOfferType</th>\n",
       "      <th>SalesChannel</th>\n",
       "      <th>ClaimAmount</th>\n",
       "      <th>VehicleClass</th>\n",
       "      <th>VehicleSize</th>\n",
       "    </tr>\n",
       "  </thead>\n",
       "  <tbody>\n",
       "    <tr>\n",
       "      <th>0</th>\n",
       "      <td>BU79786</td>\n",
       "      <td>Washington</td>\n",
       "      <td>2763.519279</td>\n",
       "      <td>No</td>\n",
       "      <td>Basic</td>\n",
       "      <td>Bachelor</td>\n",
       "      <td>2/24/11</td>\n",
       "      <td>Employed</td>\n",
       "      <td>F</td>\n",
       "      <td>56274</td>\n",
       "      <td>...</td>\n",
       "      <td>5</td>\n",
       "      <td>0</td>\n",
       "      <td>1</td>\n",
       "      <td>Corporate Auto</td>\n",
       "      <td>Corporate L3</td>\n",
       "      <td>Offer1</td>\n",
       "      <td>Agent</td>\n",
       "      <td>384.811147</td>\n",
       "      <td>Two-Door Car</td>\n",
       "      <td>Medsize</td>\n",
       "    </tr>\n",
       "    <tr>\n",
       "      <th>1</th>\n",
       "      <td>QZ44356</td>\n",
       "      <td>Arizona</td>\n",
       "      <td>6979.535903</td>\n",
       "      <td>No</td>\n",
       "      <td>Extended</td>\n",
       "      <td>Bachelor</td>\n",
       "      <td>1/31/11</td>\n",
       "      <td>Unemployed</td>\n",
       "      <td>F</td>\n",
       "      <td>0</td>\n",
       "      <td>...</td>\n",
       "      <td>42</td>\n",
       "      <td>0</td>\n",
       "      <td>8</td>\n",
       "      <td>Personal Auto</td>\n",
       "      <td>Personal L3</td>\n",
       "      <td>Offer3</td>\n",
       "      <td>Agent</td>\n",
       "      <td>1131.464935</td>\n",
       "      <td>Four-Door Car</td>\n",
       "      <td>Medsize</td>\n",
       "    </tr>\n",
       "    <tr>\n",
       "      <th>2</th>\n",
       "      <td>AI49188</td>\n",
       "      <td>Nevada</td>\n",
       "      <td>12887.431650</td>\n",
       "      <td>No</td>\n",
       "      <td>Premium</td>\n",
       "      <td>Bachelor</td>\n",
       "      <td>2/19/11</td>\n",
       "      <td>Employed</td>\n",
       "      <td>F</td>\n",
       "      <td>48767</td>\n",
       "      <td>...</td>\n",
       "      <td>38</td>\n",
       "      <td>0</td>\n",
       "      <td>2</td>\n",
       "      <td>Personal Auto</td>\n",
       "      <td>Personal L3</td>\n",
       "      <td>Offer1</td>\n",
       "      <td>Agent</td>\n",
       "      <td>566.472247</td>\n",
       "      <td>Two-Door Car</td>\n",
       "      <td>Medsize</td>\n",
       "    </tr>\n",
       "    <tr>\n",
       "      <th>3</th>\n",
       "      <td>WW63253</td>\n",
       "      <td>California</td>\n",
       "      <td>7645.861827</td>\n",
       "      <td>No</td>\n",
       "      <td>Basic</td>\n",
       "      <td>Bachelor</td>\n",
       "      <td>1/20/11</td>\n",
       "      <td>Unemployed</td>\n",
       "      <td>M</td>\n",
       "      <td>0</td>\n",
       "      <td>...</td>\n",
       "      <td>65</td>\n",
       "      <td>0</td>\n",
       "      <td>7</td>\n",
       "      <td>Corporate Auto</td>\n",
       "      <td>Corporate L2</td>\n",
       "      <td>Offer1</td>\n",
       "      <td>Call Center</td>\n",
       "      <td>529.881344</td>\n",
       "      <td>SUV</td>\n",
       "      <td>Medsize</td>\n",
       "    </tr>\n",
       "    <tr>\n",
       "      <th>4</th>\n",
       "      <td>HB64268</td>\n",
       "      <td>Washington</td>\n",
       "      <td>2813.692575</td>\n",
       "      <td>No</td>\n",
       "      <td>Basic</td>\n",
       "      <td>Bachelor</td>\n",
       "      <td>2/3/11</td>\n",
       "      <td>Employed</td>\n",
       "      <td>M</td>\n",
       "      <td>43836</td>\n",
       "      <td>...</td>\n",
       "      <td>44</td>\n",
       "      <td>0</td>\n",
       "      <td>1</td>\n",
       "      <td>Personal Auto</td>\n",
       "      <td>Personal L1</td>\n",
       "      <td>Offer1</td>\n",
       "      <td>Agent</td>\n",
       "      <td>138.130879</td>\n",
       "      <td>Four-Door Car</td>\n",
       "      <td>Medsize</td>\n",
       "    </tr>\n",
       "    <tr>\n",
       "      <th>5</th>\n",
       "      <td>OC83172</td>\n",
       "      <td>Oregon</td>\n",
       "      <td>8256.297800</td>\n",
       "      <td>Yes</td>\n",
       "      <td>Basic</td>\n",
       "      <td>Bachelor</td>\n",
       "      <td>1/25/11</td>\n",
       "      <td>Employed</td>\n",
       "      <td>F</td>\n",
       "      <td>62902</td>\n",
       "      <td>...</td>\n",
       "      <td>94</td>\n",
       "      <td>0</td>\n",
       "      <td>2</td>\n",
       "      <td>Personal Auto</td>\n",
       "      <td>Personal L3</td>\n",
       "      <td>Offer2</td>\n",
       "      <td>Web</td>\n",
       "      <td>159.383042</td>\n",
       "      <td>Two-Door Car</td>\n",
       "      <td>Medsize</td>\n",
       "    </tr>\n",
       "    <tr>\n",
       "      <th>6</th>\n",
       "      <td>XZ87318</td>\n",
       "      <td>Oregon</td>\n",
       "      <td>5380.898636</td>\n",
       "      <td>Yes</td>\n",
       "      <td>Basic</td>\n",
       "      <td>College</td>\n",
       "      <td>2/24/11</td>\n",
       "      <td>Employed</td>\n",
       "      <td>F</td>\n",
       "      <td>55350</td>\n",
       "      <td>...</td>\n",
       "      <td>13</td>\n",
       "      <td>0</td>\n",
       "      <td>9</td>\n",
       "      <td>Corporate Auto</td>\n",
       "      <td>Corporate L3</td>\n",
       "      <td>Offer1</td>\n",
       "      <td>Agent</td>\n",
       "      <td>321.600000</td>\n",
       "      <td>Four-Door Car</td>\n",
       "      <td>Medsize</td>\n",
       "    </tr>\n",
       "  </tbody>\n",
       "</table>\n",
       "<p>7 rows × 24 columns</p>\n",
       "</div>"
      ],
      "text/plain": [
       "  Customer       State  CustomerLifetimeValue Response  Coverage Education  \\\n",
       "0  BU79786  Washington            2763.519279       No     Basic  Bachelor   \n",
       "1  QZ44356     Arizona            6979.535903       No  Extended  Bachelor   \n",
       "2  AI49188      Nevada           12887.431650       No   Premium  Bachelor   \n",
       "3  WW63253  California            7645.861827       No     Basic  Bachelor   \n",
       "4  HB64268  Washington            2813.692575       No     Basic  Bachelor   \n",
       "5  OC83172      Oregon            8256.297800      Yes     Basic  Bachelor   \n",
       "6  XZ87318      Oregon            5380.898636      Yes     Basic   College   \n",
       "\n",
       "  EffectiveToDate EmploymentStatus Gender  Income  ...  \\\n",
       "0         2/24/11         Employed      F   56274  ...   \n",
       "1         1/31/11       Unemployed      F       0  ...   \n",
       "2         2/19/11         Employed      F   48767  ...   \n",
       "3         1/20/11       Unemployed      M       0  ...   \n",
       "4          2/3/11         Employed      M   43836  ...   \n",
       "5         1/25/11         Employed      F   62902  ...   \n",
       "6         2/24/11         Employed      F   55350  ...   \n",
       "\n",
       "  MonthsSincePolicyInception NumberofOpenComplaints  NumberofPolicies  \\\n",
       "0                          5                      0                 1   \n",
       "1                         42                      0                 8   \n",
       "2                         38                      0                 2   \n",
       "3                         65                      0                 7   \n",
       "4                         44                      0                 1   \n",
       "5                         94                      0                 2   \n",
       "6                         13                      0                 9   \n",
       "\n",
       "       PolicyType        Policy  RenewOfferType  SalesChannel  ClaimAmount  \\\n",
       "0  Corporate Auto  Corporate L3          Offer1         Agent   384.811147   \n",
       "1   Personal Auto   Personal L3          Offer3         Agent  1131.464935   \n",
       "2   Personal Auto   Personal L3          Offer1         Agent   566.472247   \n",
       "3  Corporate Auto  Corporate L2          Offer1   Call Center   529.881344   \n",
       "4   Personal Auto   Personal L1          Offer1         Agent   138.130879   \n",
       "5   Personal Auto   Personal L3          Offer2           Web   159.383042   \n",
       "6  Corporate Auto  Corporate L3          Offer1         Agent   321.600000   \n",
       "\n",
       "    VehicleClass VehicleSize  \n",
       "0   Two-Door Car     Medsize  \n",
       "1  Four-Door Car     Medsize  \n",
       "2   Two-Door Car     Medsize  \n",
       "3            SUV     Medsize  \n",
       "4  Four-Door Car     Medsize  \n",
       "5   Two-Door Car     Medsize  \n",
       "6  Four-Door Car     Medsize  \n",
       "\n",
       "[7 rows x 24 columns]"
      ]
     },
     "execution_count": 111,
     "metadata": {},
     "output_type": "execute_result"
    }
   ],
   "source": [
    "data2.head(7)"
   ]
  },
  {
   "cell_type": "code",
   "execution_count": 112,
   "id": "066242f9-05d3-4710-a01c-e8f240b14b0a",
   "metadata": {},
   "outputs": [
    {
     "data": {
      "text/html": [
       "<div>\n",
       "<style scoped>\n",
       "    .dataframe tbody tr th:only-of-type {\n",
       "        vertical-align: middle;\n",
       "    }\n",
       "\n",
       "    .dataframe tbody tr th {\n",
       "        vertical-align: top;\n",
       "    }\n",
       "\n",
       "    .dataframe thead th {\n",
       "        text-align: right;\n",
       "    }\n",
       "</style>\n",
       "<table border=\"1\" class=\"dataframe\">\n",
       "  <thead>\n",
       "    <tr style=\"text-align: right;\">\n",
       "      <th></th>\n",
       "      <th>Unnamed: 0</th>\n",
       "      <th>CustomerLifetimeValue</th>\n",
       "      <th>Income</th>\n",
       "      <th>MonthlyPremiumAuto</th>\n",
       "      <th>MonthsSinceLastClaim</th>\n",
       "      <th>MonthsSincePolicyInception</th>\n",
       "      <th>NumberofOpenComplaints</th>\n",
       "      <th>NumberofPolicies</th>\n",
       "      <th>ClaimAmount</th>\n",
       "    </tr>\n",
       "  </thead>\n",
       "  <tbody>\n",
       "    <tr>\n",
       "      <th>count</th>\n",
       "      <td>9134.000000</td>\n",
       "      <td>9134.000000</td>\n",
       "      <td>9134.000000</td>\n",
       "      <td>9134.000000</td>\n",
       "      <td>9134.000000</td>\n",
       "      <td>9134.000000</td>\n",
       "      <td>9134.000000</td>\n",
       "      <td>9134.000000</td>\n",
       "      <td>9134.000000</td>\n",
       "    </tr>\n",
       "    <tr>\n",
       "      <th>mean</th>\n",
       "      <td>4566.500000</td>\n",
       "      <td>8004.940475</td>\n",
       "      <td>37657.380009</td>\n",
       "      <td>93.219291</td>\n",
       "      <td>15.097000</td>\n",
       "      <td>48.064594</td>\n",
       "      <td>0.384388</td>\n",
       "      <td>2.966170</td>\n",
       "      <td>434.088794</td>\n",
       "    </tr>\n",
       "    <tr>\n",
       "      <th>std</th>\n",
       "      <td>2636.903013</td>\n",
       "      <td>6870.967608</td>\n",
       "      <td>30379.904734</td>\n",
       "      <td>34.407967</td>\n",
       "      <td>10.073257</td>\n",
       "      <td>27.905991</td>\n",
       "      <td>0.910384</td>\n",
       "      <td>2.390182</td>\n",
       "      <td>290.500092</td>\n",
       "    </tr>\n",
       "    <tr>\n",
       "      <th>min</th>\n",
       "      <td>0.000000</td>\n",
       "      <td>1898.007675</td>\n",
       "      <td>0.000000</td>\n",
       "      <td>61.000000</td>\n",
       "      <td>0.000000</td>\n",
       "      <td>0.000000</td>\n",
       "      <td>0.000000</td>\n",
       "      <td>1.000000</td>\n",
       "      <td>0.099007</td>\n",
       "    </tr>\n",
       "    <tr>\n",
       "      <th>25%</th>\n",
       "      <td>2283.250000</td>\n",
       "      <td>3994.251794</td>\n",
       "      <td>0.000000</td>\n",
       "      <td>68.000000</td>\n",
       "      <td>6.000000</td>\n",
       "      <td>24.000000</td>\n",
       "      <td>0.000000</td>\n",
       "      <td>1.000000</td>\n",
       "      <td>272.258244</td>\n",
       "    </tr>\n",
       "    <tr>\n",
       "      <th>50%</th>\n",
       "      <td>4566.500000</td>\n",
       "      <td>5780.182197</td>\n",
       "      <td>33889.500000</td>\n",
       "      <td>83.000000</td>\n",
       "      <td>14.000000</td>\n",
       "      <td>48.000000</td>\n",
       "      <td>0.000000</td>\n",
       "      <td>2.000000</td>\n",
       "      <td>383.945434</td>\n",
       "    </tr>\n",
       "    <tr>\n",
       "      <th>75%</th>\n",
       "      <td>6849.750000</td>\n",
       "      <td>8962.167041</td>\n",
       "      <td>62320.000000</td>\n",
       "      <td>109.000000</td>\n",
       "      <td>23.000000</td>\n",
       "      <td>71.000000</td>\n",
       "      <td>0.000000</td>\n",
       "      <td>4.000000</td>\n",
       "      <td>547.514839</td>\n",
       "    </tr>\n",
       "    <tr>\n",
       "      <th>max</th>\n",
       "      <td>9133.000000</td>\n",
       "      <td>83325.381190</td>\n",
       "      <td>99981.000000</td>\n",
       "      <td>298.000000</td>\n",
       "      <td>35.000000</td>\n",
       "      <td>99.000000</td>\n",
       "      <td>5.000000</td>\n",
       "      <td>9.000000</td>\n",
       "      <td>2893.239678</td>\n",
       "    </tr>\n",
       "  </tbody>\n",
       "</table>\n",
       "</div>"
      ],
      "text/plain": [
       "        Unnamed: 0  CustomerLifetimeValue        Income  MonthlyPremiumAuto  \\\n",
       "count  9134.000000            9134.000000   9134.000000         9134.000000   \n",
       "mean   4566.500000            8004.940475  37657.380009           93.219291   \n",
       "std    2636.903013            6870.967608  30379.904734           34.407967   \n",
       "min       0.000000            1898.007675      0.000000           61.000000   \n",
       "25%    2283.250000            3994.251794      0.000000           68.000000   \n",
       "50%    4566.500000            5780.182197  33889.500000           83.000000   \n",
       "75%    6849.750000            8962.167041  62320.000000          109.000000   \n",
       "max    9133.000000           83325.381190  99981.000000          298.000000   \n",
       "\n",
       "       MonthsSinceLastClaim  MonthsSincePolicyInception  \\\n",
       "count           9134.000000                 9134.000000   \n",
       "mean              15.097000                   48.064594   \n",
       "std               10.073257                   27.905991   \n",
       "min                0.000000                    0.000000   \n",
       "25%                6.000000                   24.000000   \n",
       "50%               14.000000                   48.000000   \n",
       "75%               23.000000                   71.000000   \n",
       "max               35.000000                   99.000000   \n",
       "\n",
       "       NumberofOpenComplaints  NumberofPolicies  ClaimAmount  \n",
       "count             9134.000000       9134.000000  9134.000000  \n",
       "mean                 0.384388          2.966170   434.088794  \n",
       "std                  0.910384          2.390182   290.500092  \n",
       "min                  0.000000          1.000000     0.099007  \n",
       "25%                  0.000000          1.000000   272.258244  \n",
       "50%                  0.000000          2.000000   383.945434  \n",
       "75%                  0.000000          4.000000   547.514839  \n",
       "max                  5.000000          9.000000  2893.239678  "
      ]
     },
     "execution_count": 112,
     "metadata": {},
     "output_type": "execute_result"
    }
   ],
   "source": [
    "data1.describe()"
   ]
  },
  {
   "cell_type": "code",
   "execution_count": 113,
   "id": "8d8ef7f1-4c4e-4435-a701-b5bd5b46ca34",
   "metadata": {},
   "outputs": [
    {
     "data": {
      "text/plain": [
       "Unnamed: 0                                 0\n",
       "Customer                             BU79786\n",
       "State                             Washington\n",
       "CustomerLifetimeValue            2763.519279\n",
       "Response                                  No\n",
       "Coverage                               Basic\n",
       "Education                           Bachelor\n",
       "EffectiveToDate                      2/24/11\n",
       "EmploymentStatus                    Employed\n",
       "Gender                                     F\n",
       "Income                                 56274\n",
       "LocationCode                        Suburban\n",
       "MaritalStatus                        Married\n",
       "MonthlyPremiumAuto                        69\n",
       "MonthsSinceLastClaim                      32\n",
       "MonthsSincePolicyInception                 5\n",
       "NumberofOpenComplaints                     0\n",
       "NumberofPolicies                           1\n",
       "PolicyType                    Corporate Auto\n",
       "Policy                          Corporate L3\n",
       "RenewOfferType                        Offer1\n",
       "SalesChannel                           Agent\n",
       "ClaimAmount                       384.811147\n",
       "VehicleClass                    Two-Door Car\n",
       "VehicleSize                          Medsize\n",
       "Name: 0, dtype: object"
      ]
     },
     "execution_count": 113,
     "metadata": {},
     "output_type": "execute_result"
    }
   ],
   "source": [
    "#use loc or iloc to view the rows of the data\n",
    "data1.iloc[0]"
   ]
  },
  {
   "cell_type": "markdown",
   "id": "ba5db0a4-8e73-41bf-83c1-ea170de11b3c",
   "metadata": {},
   "source": [
    "# seaborn\n"
   ]
  },
  {
   "cell_type": "code",
   "execution_count": 224,
   "id": "4cc2c826-a64f-4257-9e2f-d7b392e97025",
   "metadata": {},
   "outputs": [],
   "source": [
    "import seaborn as sns"
   ]
  },
  {
   "cell_type": "code",
   "execution_count": 226,
   "id": "04b2267f-9f89-448e-91f1-0f6c0fcb6f55",
   "metadata": {},
   "outputs": [
    {
     "name": "stderr",
     "output_type": "stream",
     "text": [
      "C:\\Users\\Aditya\\AppData\\Local\\Temp\\ipykernel_9700\\2296927633.py:1: UserWarning: \n",
      "\n",
      "`distplot` is a deprecated function and will be removed in seaborn v0.14.0.\n",
      "\n",
      "Please adapt your code to use either `displot` (a figure-level function with\n",
      "similar flexibility) or `histplot` (an axes-level function for histograms).\n",
      "\n",
      "For a guide to updating your code to use the new functions, please see\n",
      "https://gist.github.com/mwaskom/de44147ed2974457ad6372750bbe5751\n",
      "\n",
      "  sns.distplot(data2.CustomerLifetimeValue)\n"
     ]
    },
    {
     "data": {
      "text/plain": [
       "<Axes: xlabel='CustomerLifetimeValue', ylabel='Density'>"
      ]
     },
     "execution_count": 226,
     "metadata": {},
     "output_type": "execute_result"
    },
    {
     "data": {
      "image/png": "[encoded data removed]",
      "text/plain": [
       "<Figure size 640x480 with 1 Axes>"
      ]
     },
     "metadata": {},
     "output_type": "display_data"
    }
   ],
   "source": [
    "sns.distplot(data2.CustomerLifetimeValue)"
   ]
  },
  {
   "cell_type": "code",
   "execution_count": 228,
   "id": "e20e1053-badd-47ce-9013-e5a06c2593a5",
   "metadata": {},
   "outputs": [
    {
     "name": "stderr",
     "output_type": "stream",
     "text": [
      "C:\\Users\\Aditya\\AppData\\Local\\Temp\\ipykernel_9700\\1275072651.py:1: UserWarning: \n",
      "\n",
      "`distplot` is a deprecated function and will be removed in seaborn v0.14.0.\n",
      "\n",
      "Please adapt your code to use either `displot` (a figure-level function with\n",
      "similar flexibility) or `histplot` (an axes-level function for histograms).\n",
      "\n",
      "For a guide to updating your code to use the new functions, please see\n",
      "https://gist.github.com/mwaskom/de44147ed2974457ad6372750bbe5751\n",
      "\n",
      "  sns.distplot(data2.CustomerLifetimeValue,kde=False)\n"
     ]
    },
    {
     "data": {
      "text/plain": [
       "<Axes: xlabel='CustomerLifetimeValue'>"
      ]
     },
     "execution_count": 228,
     "metadata": {},
     "output_type": "execute_result"
    },
    {
     "data": {
      "image/png": "[encoded data removed]",
      "text/plain": [
       "<Figure size 640x480 with 1 Axes>"
      ]
     },
     "metadata": {},
     "output_type": "display_data"
    }
   ],
   "source": [
    "sns.distplot(data2.CustomerLifetimeValue,kde=False)"
   ]
  },
  {
   "cell_type": "code",
   "execution_count": 237,
   "id": "1bee32f0-0720-4d29-ad22-6663f4eb2ea4",
   "metadata": {},
   "outputs": [
    {
     "name": "stderr",
     "output_type": "stream",
     "text": [
      "C:\\Users\\Aditya\\AppData\\Local\\Temp\\ipykernel_9700\\3442629832.py:1: UserWarning: \n",
      "\n",
      "`distplot` is a deprecated function and will be removed in seaborn v0.14.0.\n",
      "\n",
      "Please adapt your code to use either `displot` (a figure-level function with\n",
      "similar flexibility) or `histplot` (an axes-level function for histograms).\n",
      "\n",
      "For a guide to updating your code to use the new functions, please see\n",
      "https://gist.github.com/mwaskom/de44147ed2974457ad6372750bbe5751\n",
      "\n",
      "  sns.distplot(data2.CustomerLifetimeValue,kde=False,color =\"red\")\n"
     ]
    },
    {
     "data": {
      "text/plain": [
       "<Axes: xlabel='CustomerLifetimeValue'>"
      ]
     },
     "execution_count": 237,
     "metadata": {},
     "output_type": "execute_result"
    },
    {
     "data": {
      "image/png": "[encoded data removed]",
      "text/plain": [
       "<Figure size 640x480 with 1 Axes>"
      ]
     },
     "metadata": {},
     "output_type": "display_data"
    }
   ],
   "source": [
    "sns.distplot(data2.CustomerLifetimeValue,kde=False,color =\"red\")"
   ]
  },
  {
   "cell_type": "code",
   "execution_count": 239,
   "id": "98ecb3d7-d833-462e-a1c6-034cef3185a9",
   "metadata": {},
   "outputs": [],
   "source": [
    "#there is an preloaded data already present iris\n",
    "iris=sns.load_dataset(\"iris\")"
   ]
  },
  {
   "cell_type": "code",
   "execution_count": 241,
   "id": "05069f70-8edc-4711-9488-375059a00295",
   "metadata": {},
   "outputs": [
    {
     "data": {
      "text/html": [
       "<div>\n",
       "<style scoped>\n",
       "    .dataframe tbody tr th:only-of-type {\n",
       "        vertical-align: middle;\n",
       "    }\n",
       "\n",
       "    .dataframe tbody tr th {\n",
       "        vertical-align: top;\n",
       "    }\n",
       "\n",
       "    .dataframe thead th {\n",
       "        text-align: right;\n",
       "    }\n",
       "</style>\n",
       "<table border=\"1\" class=\"dataframe\">\n",
       "  <thead>\n",
       "    <tr style=\"text-align: right;\">\n",
       "      <th></th>\n",
       "      <th>sepal_length</th>\n",
       "      <th>sepal_width</th>\n",
       "      <th>petal_length</th>\n",
       "      <th>petal_width</th>\n",
       "      <th>species</th>\n",
       "    </tr>\n",
       "  </thead>\n",
       "  <tbody>\n",
       "    <tr>\n",
       "      <th>0</th>\n",
       "      <td>5.1</td>\n",
       "      <td>3.5</td>\n",
       "      <td>1.4</td>\n",
       "      <td>0.2</td>\n",
       "      <td>setosa</td>\n",
       "    </tr>\n",
       "    <tr>\n",
       "      <th>1</th>\n",
       "      <td>4.9</td>\n",
       "      <td>3.0</td>\n",
       "      <td>1.4</td>\n",
       "      <td>0.2</td>\n",
       "      <td>setosa</td>\n",
       "    </tr>\n",
       "    <tr>\n",
       "      <th>2</th>\n",
       "      <td>4.7</td>\n",
       "      <td>3.2</td>\n",
       "      <td>1.3</td>\n",
       "      <td>0.2</td>\n",
       "      <td>setosa</td>\n",
       "    </tr>\n",
       "    <tr>\n",
       "      <th>3</th>\n",
       "      <td>4.6</td>\n",
       "      <td>3.1</td>\n",
       "      <td>1.5</td>\n",
       "      <td>0.2</td>\n",
       "      <td>setosa</td>\n",
       "    </tr>\n",
       "    <tr>\n",
       "      <th>4</th>\n",
       "      <td>5.0</td>\n",
       "      <td>3.6</td>\n",
       "      <td>1.4</td>\n",
       "      <td>0.2</td>\n",
       "      <td>setosa</td>\n",
       "    </tr>\n",
       "  </tbody>\n",
       "</table>\n",
       "</div>"
      ],
      "text/plain": [
       "   sepal_length  sepal_width  petal_length  petal_width species\n",
       "0           5.1          3.5           1.4          0.2  setosa\n",
       "1           4.9          3.0           1.4          0.2  setosa\n",
       "2           4.7          3.2           1.3          0.2  setosa\n",
       "3           4.6          3.1           1.5          0.2  setosa\n",
       "4           5.0          3.6           1.4          0.2  setosa"
      ]
     },
     "execution_count": 241,
     "metadata": {},
     "output_type": "execute_result"
    }
   ],
   "source": [
    "iris.head()"
   ]
  },
  {
   "cell_type": "code",
   "execution_count": 243,
   "id": "607501a5-2b02-4203-88c9-42de0793489f",
   "metadata": {},
   "outputs": [
    {
     "data": {
      "text/plain": [
       "(150, 5)"
      ]
     },
     "execution_count": 243,
     "metadata": {},
     "output_type": "execute_result"
    }
   ],
   "source": [
    "iris.shape"
   ]
  },
  {
   "cell_type": "code",
   "execution_count": 245,
   "id": "0dbe7d01-ad02-4da0-91f1-a324d6c7f105",
   "metadata": {},
   "outputs": [
    {
     "data": {
      "text/html": [
       "<div>\n",
       "<style scoped>\n",
       "    .dataframe tbody tr th:only-of-type {\n",
       "        vertical-align: middle;\n",
       "    }\n",
       "\n",
       "    .dataframe tbody tr th {\n",
       "        vertical-align: top;\n",
       "    }\n",
       "\n",
       "    .dataframe thead th {\n",
       "        text-align: right;\n",
       "    }\n",
       "</style>\n",
       "<table border=\"1\" class=\"dataframe\">\n",
       "  <thead>\n",
       "    <tr style=\"text-align: right;\">\n",
       "      <th></th>\n",
       "      <th>sepal_length</th>\n",
       "      <th>sepal_width</th>\n",
       "      <th>petal_length</th>\n",
       "      <th>petal_width</th>\n",
       "    </tr>\n",
       "  </thead>\n",
       "  <tbody>\n",
       "    <tr>\n",
       "      <th>count</th>\n",
       "      <td>150.000000</td>\n",
       "      <td>150.000000</td>\n",
       "      <td>150.000000</td>\n",
       "      <td>150.000000</td>\n",
       "    </tr>\n",
       "    <tr>\n",
       "      <th>mean</th>\n",
       "      <td>5.843333</td>\n",
       "      <td>3.057333</td>\n",
       "      <td>3.758000</td>\n",
       "      <td>1.199333</td>\n",
       "    </tr>\n",
       "    <tr>\n",
       "      <th>std</th>\n",
       "      <td>0.828066</td>\n",
       "      <td>0.435866</td>\n",
       "      <td>1.765298</td>\n",
       "      <td>0.762238</td>\n",
       "    </tr>\n",
       "    <tr>\n",
       "      <th>min</th>\n",
       "      <td>4.300000</td>\n",
       "      <td>2.000000</td>\n",
       "      <td>1.000000</td>\n",
       "      <td>0.100000</td>\n",
       "    </tr>\n",
       "    <tr>\n",
       "      <th>25%</th>\n",
       "      <td>5.100000</td>\n",
       "      <td>2.800000</td>\n",
       "      <td>1.600000</td>\n",
       "      <td>0.300000</td>\n",
       "    </tr>\n",
       "    <tr>\n",
       "      <th>50%</th>\n",
       "      <td>5.800000</td>\n",
       "      <td>3.000000</td>\n",
       "      <td>4.350000</td>\n",
       "      <td>1.300000</td>\n",
       "    </tr>\n",
       "    <tr>\n",
       "      <th>75%</th>\n",
       "      <td>6.400000</td>\n",
       "      <td>3.300000</td>\n",
       "      <td>5.100000</td>\n",
       "      <td>1.800000</td>\n",
       "    </tr>\n",
       "    <tr>\n",
       "      <th>max</th>\n",
       "      <td>7.900000</td>\n",
       "      <td>4.400000</td>\n",
       "      <td>6.900000</td>\n",
       "      <td>2.500000</td>\n",
       "    </tr>\n",
       "  </tbody>\n",
       "</table>\n",
       "</div>"
      ],
      "text/plain": [
       "       sepal_length  sepal_width  petal_length  petal_width\n",
       "count    150.000000   150.000000    150.000000   150.000000\n",
       "mean       5.843333     3.057333      3.758000     1.199333\n",
       "std        0.828066     0.435866      1.765298     0.762238\n",
       "min        4.300000     2.000000      1.000000     0.100000\n",
       "25%        5.100000     2.800000      1.600000     0.300000\n",
       "50%        5.800000     3.000000      4.350000     1.300000\n",
       "75%        6.400000     3.300000      5.100000     1.800000\n",
       "max        7.900000     4.400000      6.900000     2.500000"
      ]
     },
     "execution_count": 245,
     "metadata": {},
     "output_type": "execute_result"
    }
   ],
   "source": [
    "iris.describe()"
   ]
  },
  {
   "cell_type": "code",
   "execution_count": 249,
   "id": "abb915e7-4243-461b-a424-29e22ab4eb9c",
   "metadata": {},
   "outputs": [
    {
     "data": {
      "text/plain": [
       "<seaborn.axisgrid.JointGrid at 0x2031f0c6d50>"
      ]
     },
     "execution_count": 249,
     "metadata": {},
     "output_type": "execute_result"
    },
    {
     "data": {
      "image/png": "[encoded data removed]",
      "text/plain": [
       "<Figure size 600x600 with 3 Axes>"
      ]
     },
     "metadata": {},
     "output_type": "display_data"
    }
   ],
   "source": [
    "sns.jointplot(x=\"sepal_length\",y=\"sepal_width\",data=iris)"
   ]
  },
  {
   "cell_type": "code",
   "execution_count": 253,
   "id": "aa37deae-a3c3-4a53-a8a3-441fdcf7650c",
   "metadata": {},
   "outputs": [
    {
     "data": {
      "text/plain": [
       "<seaborn.axisgrid.PairGrid at 0x203185840b0>"
      ]
     },
     "execution_count": 253,
     "metadata": {},
     "output_type": "execute_result"
    },
    {
     "data": {
      "image/png": "[encoded data removed]",
      "text/plain": [
       "<Figure size 1000x1000 with 20 Axes>"
      ]
     },
     "metadata": {},
     "output_type": "display_data"
    }
   ],
   "source": [
    "#creates all plots\n",
    "sns.pairplot(iris)"
   ]
  },
  {
   "cell_type": "code",
   "execution_count": null,
   "id": "9b7c4a50-78ac-44fc-b83e-f1a1eabdfa6b",
   "metadata": {},
   "outputs": [],
   "source": []
  }
 ],
 "metadata": {
  "kernelspec": {
   "display_name": "Python 3 (ipykernel)",
   "language": "python",
   "name": "python3"
  },
  "language_info": {
   "codemirror_mode": {
    "name": "ipython",
    "version": 3
   },
   "file_extension": ".py",
   "mimetype": "text/x-python",
   "name": "python",
   "nbconvert_exporter": "python",
   "pygments_lexer": "ipython3",
   "version": "3.12.4"
  }
 },
 "nbformat": 4,
 "nbformat_minor": 5
}
